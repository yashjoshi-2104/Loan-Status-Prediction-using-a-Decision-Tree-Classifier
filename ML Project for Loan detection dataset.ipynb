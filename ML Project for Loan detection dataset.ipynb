{
 "cells": [
  {
   "cell_type": "code",
   "execution_count": 2,
   "id": "95f4ec28-ce21-4ce4-b7f0-68cc1394f398",
   "metadata": {},
   "outputs": [],
   "source": [
    "import pandas as pd\n",
    "import numpy as np\n",
    "import matplotlib.pyplot as plt\n",
    "import joblib, os\n",
    "from sklearn.model_selection import train_test_split, GridSearchCV\n",
    "from sklearn.tree import DecisionTreeClassifier, plot_tree\n",
    "from sklearn.metrics import accuracy_score, classification_report, confusion_matrix"
   ]
  },
  {
   "cell_type": "code",
   "execution_count": 6,
   "id": "e6cf29ba-d732-40eb-993f-48d18f760a46",
   "metadata": {},
   "outputs": [
    {
     "name": "stdout",
     "output_type": "stream",
     "text": [
      "Shape: (39717, 111)\n",
      "        id  member_id  loan_amnt  funded_amnt  funded_amnt_inv        term  \\\n",
      "0  1077501    1296599       5000         5000           4975.0   36 months   \n",
      "1  1077430    1314167       2500         2500           2500.0   60 months   \n",
      "2  1077175    1313524       2400         2400           2400.0   36 months   \n",
      "\n",
      "  int_rate  installment grade sub_grade  ... num_tl_90g_dpd_24m  \\\n",
      "0   10.65%       162.87     B        B2  ...                NaN   \n",
      "1   15.27%        59.83     C        C4  ...                NaN   \n",
      "2   15.96%        84.33     C        C5  ...                NaN   \n",
      "\n",
      "  num_tl_op_past_12m pct_tl_nvr_dlq  percent_bc_gt_75 pub_rec_bankruptcies  \\\n",
      "0                NaN            NaN               NaN                  0.0   \n",
      "1                NaN            NaN               NaN                  0.0   \n",
      "2                NaN            NaN               NaN                  0.0   \n",
      "\n",
      "  tax_liens tot_hi_cred_lim total_bal_ex_mort total_bc_limit  \\\n",
      "0       0.0             NaN               NaN            NaN   \n",
      "1       0.0             NaN               NaN            NaN   \n",
      "2       0.0             NaN               NaN            NaN   \n",
      "\n",
      "  total_il_high_credit_limit  \n",
      "0                        NaN  \n",
      "1                        NaN  \n",
      "2                        NaN  \n",
      "\n",
      "[3 rows x 111 columns]\n"
     ]
    },
    {
     "name": "stderr",
     "output_type": "stream",
     "text": [
      "C:\\Users\\Yash\\AppData\\Local\\Temp\\ipykernel_21840\\3735051402.py:1: DtypeWarning: Columns (47) have mixed types. Specify dtype option on import or set low_memory=False.\n",
      "  df = pd.read_csv(\"C:\\\\Users\\\\Yash\\\\OneDrive\\\\Desktop\\\\Datasets and completed analysis\\\\Datasets\\\\Loan Classification dataset\\\\loan.csv\")\n"
     ]
    }
   ],
   "source": [
    "df = pd.read_csv(\"C:\\\\Users\\\\Yash\\\\OneDrive\\\\Desktop\\\\Datasets and completed analysis\\\\Datasets\\\\Loan Classification dataset\\\\loan.csv\")\n",
    "print(\"Shape:\", df.shape)\n",
    "print(df.head(3))"
   ]
  },
  {
   "cell_type": "code",
   "execution_count": 10,
   "id": "02094b68-9582-4b1a-8b2f-f35619d9f956",
   "metadata": {},
   "outputs": [],
   "source": [
    "target_candidates = ['loan_status','Loan_Status','LoanStatus','loanstatus','status','loan_status ']\n",
    "target = next((c for c in target_candidates if c in df.columns), df.columns[-1])"
   ]
  },
  {
   "cell_type": "code",
   "execution_count": 12,
   "id": "bae4fc3f-2e6a-4d56-bc77-5db5efdf3e83",
   "metadata": {},
   "outputs": [],
   "source": [
    "for c in df.select_dtypes(include='object').columns:\n",
    "    df[c] = df[c].astype(str).str.strip()\n",
    "if 'Dependents' in df.columns:\n",
    "    df['Dependents'] = df['Dependents'].replace({'3+':'3'})\n",
    "    df['Dependents'] = pd.to_numeric(df['Dependents'], errors='coerce')"
   ]
  },
  {
   "cell_type": "code",
   "execution_count": 14,
   "id": "e941c701-b833-492b-bcdc-713635aa1d57",
   "metadata": {},
   "outputs": [
    {
     "name": "stdout",
     "output_type": "stream",
     "text": [
      "Class names: ['Charged Off', 'Current', 'Fully Paid']\n"
     ]
    }
   ],
   "source": [
    "if df[target].dtype == object:\n",
    "    df[target] = df[target].map({'Y':1,'N':0}).fillna(df[target])\n",
    "if df[target].dtype == object:\n",
    "    df[target], class_names = pd.factorize(df[target], sort=True)\n",
    "    print(\"Class names:\", list(class_names))\n",
    "else:\n",
    "    class_names = None"
   ]
  },
  {
   "cell_type": "code",
   "execution_count": 18,
   "id": "8ff0902d-34bf-48c2-b9c4-bd9320dad571",
   "metadata": {},
   "outputs": [],
   "source": [
    "threshold = int(0.7 * len(df))\n",
    "drop_sparse = [c for c in df.columns if df[c].isnull().sum() > threshold]\n",
    "id_like = [c for c in df.columns if any(tok in c.lower() for tok in ['id','url','member','addr','desc','title','emp_title'])]\n",
    "drop_cols = list(set(drop_sparse + id_like) - {target})\n",
    "df = df.drop(columns=drop_cols)"
   ]
  },
  {
   "cell_type": "code",
   "execution_count": 20,
   "id": "3ea62021-c471-4e49-b172-560b30f9fc79",
   "metadata": {},
   "outputs": [],
   "source": [
    "y = df[target]\n",
    "X = df.drop(columns=[target])"
   ]
  },
  {
   "cell_type": "code",
   "execution_count": 24,
   "id": "26da6390-0d7e-4017-8917-8c551a4a7fa9",
   "metadata": {},
   "outputs": [],
   "source": [
    "cat_cols = X.select_dtypes(include='object').columns.tolist()\n",
    "low_card = [c for c in cat_cols if X[c].nunique() <= 10]\n",
    "high_card = [c for c in cat_cols if c not in low_card]"
   ]
  },
  {
   "cell_type": "code",
   "execution_count": 26,
   "id": "bc3adde3-bf9d-4970-af48-e1e01a3cacef",
   "metadata": {},
   "outputs": [],
   "source": [
    "num_cols = X.select_dtypes(include=[np.number]).columns.tolist()\n",
    "for c in num_cols:\n",
    "    if X[c].isnull().any():\n",
    "        X[c] = X[c].fillna(X[c].median())\n",
    "for c in low_card:\n",
    "    X[c] = X[c].fillna(X[c].mode()[0])"
   ]
  },
  {
   "cell_type": "code",
   "execution_count": 28,
   "id": "540ab812-2af6-4ce3-a1d2-2dfdcce2b164",
   "metadata": {},
   "outputs": [],
   "source": [
    "for c in high_card:\n",
    "    freq = X[c].value_counts(normalize=True)\n",
    "    X[c] = X[c].map(freq).fillna(0)"
   ]
  },
  {
   "cell_type": "code",
   "execution_count": 30,
   "id": "cf2bb784-b1a7-4bbb-af95-0565dc1ae783",
   "metadata": {},
   "outputs": [],
   "source": [
    "X = pd.get_dummies(X, columns=low_card, drop_first=True)"
   ]
  },
  {
   "cell_type": "code",
   "execution_count": 32,
   "id": "d8796c77-1c27-4c35-803a-d4912834ceae",
   "metadata": {},
   "outputs": [],
   "source": [
    "X = X.loc[:, (X.isnull().mean() < 0.5)]\n",
    "X = X.loc[:, (X.nunique() > 1)]"
   ]
  },
  {
   "cell_type": "code",
   "execution_count": 34,
   "id": "c1e5481d-909a-482e-b941-9589399542d3",
   "metadata": {},
   "outputs": [
    {
     "name": "stdout",
     "output_type": "stream",
     "text": [
      "Train shape: (31773, 49) Test shape: (7944, 49)\n"
     ]
    }
   ],
   "source": [
    "X_train, X_test, y_train, y_test = train_test_split(X, y, stratify=y, test_size=0.20, random_state=42)\n",
    "print(\"Train shape:\", X_train.shape, \"Test shape:\", X_test.shape)"
   ]
  },
  {
   "cell_type": "code",
   "execution_count": 36,
   "id": "bd26f3f1-ed58-46c5-b256-4ef8ab12b35c",
   "metadata": {},
   "outputs": [
    {
     "name": "stdout",
     "output_type": "stream",
     "text": [
      "Baseline accuracy: 0.9857754279959718\n",
      "Classification report:\n",
      "               precision    recall  f1-score   support\n",
      "\n",
      "           0       1.00      0.90      0.95      1125\n",
      "           1       1.00      1.00      1.00       228\n",
      "           2       0.98      1.00      0.99      6591\n",
      "\n",
      "    accuracy                           0.99      7944\n",
      "   macro avg       0.99      0.97      0.98      7944\n",
      "weighted avg       0.99      0.99      0.99      7944\n",
      "\n",
      "Confusion matrix:\n",
      " [[1012    0  113]\n",
      " [   0  228    0]\n",
      " [   0    0 6591]]\n"
     ]
    }
   ],
   "source": [
    "clf = DecisionTreeClassifier(random_state=42, max_depth=6)\n",
    "clf.fit(X_train, y_train)\n",
    "y_pred = clf.predict(X_test)\n",
    "print(\"Baseline accuracy:\", accuracy_score(y_test, y_pred))\n",
    "print(\"Classification report:\\n\", classification_report(y_test, y_pred, zero_division=0))\n",
    "print(\"Confusion matrix:\\n\", confusion_matrix(y_test, y_pred))"
   ]
  },
  {
   "cell_type": "code",
   "execution_count": 38,
   "id": "f99bd53a-b9a9-4827-988b-ee7623615a72",
   "metadata": {},
   "outputs": [
    {
     "name": "stdout",
     "output_type": "stream",
     "text": [
      "Top 20 features:\n",
      " recoveries                             0.634578\n",
      "out_prncp_inv                          0.199427\n",
      "total_rec_prncp                        0.080822\n",
      "funded_amnt                            0.072528\n",
      "last_pymnt_amnt                        0.007449\n",
      "last_credit_pull_d                     0.003138\n",
      "loan_amnt                              0.002058\n",
      "home_ownership_OTHER                   0.000000\n",
      "home_ownership_OWN                     0.000000\n",
      "next_pymnt_d_Jun-16                    0.000000\n",
      "total_rec_late_fee                     0.000000\n",
      "verification_status_Verified           0.000000\n",
      "verification_status_Source Verified    0.000000\n",
      "collection_recovery_fee                0.000000\n",
      "last_pymnt_d                           0.000000\n",
      "home_ownership_RENT                    0.000000\n",
      "pub_rec_bankruptcies                   0.000000\n",
      "home_ownership_NONE                    0.000000\n",
      "term_60 months                         0.000000\n",
      "grade_B                                0.000000\n",
      "dtype: float64\n"
     ]
    }
   ],
   "source": [
    "importances = pd.Series(clf.feature_importances_, index=X.columns).sort_values(ascending=False)\n",
    "print(\"Top 20 features:\\n\", importances.head(20))"
   ]
  },
  {
   "cell_type": "code",
   "execution_count": 40,
   "id": "5bb4fabe-34ce-4906-bca4-015e1e8ea53f",
   "metadata": {},
   "outputs": [
    {
     "name": "stdout",
     "output_type": "stream",
     "text": [
      "Best params: {'criterion': 'entropy', 'max_depth': None, 'min_samples_leaf': 5}\n"
     ]
    }
   ],
   "source": [
    "param_grid = {'max_depth':[4,6,8,10,None], 'min_samples_leaf':[1,5,10], 'criterion':['gini','entropy']}\n",
    "gs = GridSearchCV(DecisionTreeClassifier(random_state=42), param_grid, cv=3, scoring='f1_weighted', n_jobs=1)\n",
    "gs.fit(X_train, y_train)\n",
    "print(\"Best params:\", gs.best_params_)"
   ]
  },
  {
   "cell_type": "code",
   "execution_count": 41,
   "id": "188301a5-dfac-4d0e-b79b-e6b95c5b0dcb",
   "metadata": {},
   "outputs": [
    {
     "name": "stdout",
     "output_type": "stream",
     "text": [
      "Tuned accuracy: 0.9948388721047331\n",
      "Tuned classification report:\n",
      "               precision    recall  f1-score   support\n",
      "\n",
      "           0       0.98      0.98      0.98      1125\n",
      "           1       1.00      1.00      1.00       228\n",
      "           2       1.00      1.00      1.00      6591\n",
      "\n",
      "    accuracy                           0.99      7944\n",
      "   macro avg       0.99      0.99      0.99      7944\n",
      "weighted avg       0.99      0.99      0.99      7944\n",
      "\n"
     ]
    }
   ],
   "source": [
    "best = gs.best_estimator_\n",
    "y_pred_best = best.predict(X_test)\n",
    "print(\"Tuned accuracy:\", accuracy_score(y_test, y_pred_best))\n",
    "print(\"Tuned classification report:\\n\", classification_report(y_test, y_pred_best, zero_division=0))"
   ]
  },
  {
   "cell_type": "code",
   "execution_count": 60,
   "id": "234db00b-6c94-41a8-b304-6f141eccff6a",
   "metadata": {},
   "outputs": [
    {
     "data": {
      "image/png": "[encoded data removed]",
      "text/plain": [
       "<Figure size 2000x1000 with 1 Axes>"
      ]
     },
     "metadata": {},
     "output_type": "display_data"
    }
   ],
   "source": [
    "plt.figure(figsize=(20, 10))\n",
    "plot_tree(best,feature_names=X.columns,class_names=[str(c) for c in sorted(pd.unique(y))],max_depth=3,filled=True,fontsize=8)\n",
    "plt.title(\"Decision Tree (trimmed to depth=3)\")\n",
    "plt.show() "
   ]
  },
  {
   "cell_type": "code",
   "execution_count": null,
   "id": "783eb715-1eac-4d6b-8916-1f14dedc6dad",
   "metadata": {},
   "outputs": [],
   "source": []
  },
  {
   "cell_type": "code",
   "execution_count": null,
   "id": "25dcb6ae-538f-457d-8745-8c0cdc35361a",
   "metadata": {},
   "outputs": [],
   "source": []
  },
  {
   "cell_type": "code",
   "execution_count": null,
   "id": "2ecb0d28-ec6a-474e-948f-6e2ed8c6acad",
   "metadata": {},
   "outputs": [],
   "source": []
  },
  {
   "cell_type": "code",
   "execution_count": null,
   "id": "bde76ed6-7b8e-4b12-b69c-661112ef780e",
   "metadata": {},
   "outputs": [],
   "source": []
  },
  {
   "cell_type": "code",
   "execution_count": null,
   "id": "39646e40-34ec-4beb-8db9-4ae0046c6f66",
   "metadata": {},
   "outputs": [],
   "source": []
  },
  {
   "cell_type": "code",
   "execution_count": null,
   "id": "a5246da6-a961-47be-88f4-82ca5c9cedd9",
   "metadata": {},
   "outputs": [],
   "source": []
  },
  {
   "cell_type": "code",
   "execution_count": null,
   "id": "1ff2df54-63ab-429d-94fc-a3b33720804c",
   "metadata": {},
   "outputs": [],
   "source": []
  },
  {
   "cell_type": "code",
   "execution_count": null,
   "id": "b05703ce-6e80-4766-a8cd-e0fb4d750eec",
   "metadata": {},
   "outputs": [],
   "source": []
  },
  {
   "cell_type": "code",
   "execution_count": null,
   "id": "7dfd414c-e167-449e-97d7-d64c25779ad3",
   "metadata": {},
   "outputs": [],
   "source": []
  },
  {
   "cell_type": "code",
   "execution_count": null,
   "id": "f3a9d700-69ef-4b2e-acad-6f0ac143b232",
   "metadata": {},
   "outputs": [],
   "source": []
  },
  {
   "cell_type": "code",
   "execution_count": null,
   "id": "a96b1698-a04f-4c35-b6c3-2e9a2855ed15",
   "metadata": {},
   "outputs": [],
   "source": []
  },
  {
   "cell_type": "code",
   "execution_count": null,
   "id": "64d7d5d8-5e83-4356-b2de-20c6979a2ec3",
   "metadata": {},
   "outputs": [],
   "source": []
  },
  {
   "cell_type": "code",
   "execution_count": null,
   "id": "49e18972-96d5-45e8-ad20-beb7de38eaf1",
   "metadata": {},
   "outputs": [],
   "source": []
  },
  {
   "cell_type": "code",
   "execution_count": null,
   "id": "04b92b23-6be0-4148-9aec-acb16358c9d4",
   "metadata": {},
   "outputs": [],
   "source": []
  },
  {
   "cell_type": "code",
   "execution_count": null,
   "id": "76ce3de1-3836-477e-b908-7afabb0a0fb2",
   "metadata": {},
   "outputs": [],
   "source": []
  },
  {
   "cell_type": "code",
   "execution_count": null,
   "id": "87823754-dc20-4c0b-92ab-915305786ad7",
   "metadata": {},
   "outputs": [],
   "source": []
  },
  {
   "cell_type": "code",
   "execution_count": null,
   "id": "e1fd46ec-52a3-4c6e-adb7-1727cd8cb835",
   "metadata": {},
   "outputs": [],
   "source": []
  },
  {
   "cell_type": "code",
   "execution_count": null,
   "id": "a5e660cb-dd3c-4c74-ada2-bac8be366e22",
   "metadata": {},
   "outputs": [],
   "source": []
  },
  {
   "cell_type": "code",
   "execution_count": null,
   "id": "a90103b6-088a-4580-8ebe-700b8a340d3e",
   "metadata": {},
   "outputs": [],
   "source": []
  },
  {
   "cell_type": "code",
   "execution_count": null,
   "id": "89078014-b788-4d62-9f0c-f46aa0ab4877",
   "metadata": {},
   "outputs": [],
   "source": []
  },
  {
   "cell_type": "code",
   "execution_count": null,
   "id": "5fe39795-520e-40cb-a3b7-df583fe1a288",
   "metadata": {},
   "outputs": [],
   "source": []
  },
  {
   "cell_type": "code",
   "execution_count": null,
   "id": "40d42c02-4dde-4eba-a7bd-6355b0c2823c",
   "metadata": {},
   "outputs": [],
   "source": []
  },
  {
   "cell_type": "code",
   "execution_count": null,
   "id": "13549332-a484-41c1-9b0b-8cf3176dbc32",
   "metadata": {},
   "outputs": [],
   "source": []
  },
  {
   "cell_type": "code",
   "execution_count": null,
   "id": "fec6baa0-10c1-44a0-8c7e-6f4d46647e54",
   "metadata": {},
   "outputs": [],
   "source": []
  },
  {
   "cell_type": "code",
   "execution_count": null,
   "id": "76e15ea9-c025-492a-90e3-a14c25ca8c47",
   "metadata": {},
   "outputs": [],
   "source": []
  },
  {
   "cell_type": "code",
   "execution_count": null,
   "id": "8d765d95-06e6-4e9e-8a44-3f2436dc0e7f",
   "metadata": {},
   "outputs": [],
   "source": []
  },
  {
   "cell_type": "code",
   "execution_count": null,
   "id": "0a2bdfb9-34a3-4b91-8dbc-4b62fa9ccc63",
   "metadata": {},
   "outputs": [],
   "source": []
  },
  {
   "cell_type": "code",
   "execution_count": null,
   "id": "6186f5b7-f9cf-4901-be16-8e3b9f31562d",
   "metadata": {},
   "outputs": [],
   "source": []
  },
  {
   "cell_type": "code",
   "execution_count": null,
   "id": "d1521c4f-720d-49b2-91a9-6cc57fcf4424",
   "metadata": {},
   "outputs": [],
   "source": []
  },
  {
   "cell_type": "code",
   "execution_count": null,
   "id": "6518611f-3094-4f42-bbc0-d84fb5113bb2",
   "metadata": {},
   "outputs": [],
   "source": []
  },
  {
   "cell_type": "code",
   "execution_count": null,
   "id": "160bd490-70a6-4d19-b37a-fcb24214e295",
   "metadata": {},
   "outputs": [],
   "source": []
  },
  {
   "cell_type": "code",
   "execution_count": null,
   "id": "91a212d7-0d53-4fae-9f2a-11d9cb72a6af",
   "metadata": {},
   "outputs": [],
   "source": []
  },
  {
   "cell_type": "code",
   "execution_count": null,
   "id": "b424402b-b371-45c4-b657-c6cfa9880d73",
   "metadata": {},
   "outputs": [],
   "source": []
  },
  {
   "cell_type": "code",
   "execution_count": null,
   "id": "32228527-39fe-4015-8317-550416923dd7",
   "metadata": {},
   "outputs": [],
   "source": []
  },
  {
   "cell_type": "code",
   "execution_count": null,
   "id": "ebf41ab6-87e9-47f7-9415-a71f8cf34989",
   "metadata": {},
   "outputs": [],
   "source": []
  },
  {
   "cell_type": "code",
   "execution_count": null,
   "id": "311f90ed-5bd4-44e1-acf0-45803ff412ca",
   "metadata": {},
   "outputs": [],
   "source": []
  },
  {
   "cell_type": "code",
   "execution_count": null,
   "id": "feea9e49-8e97-420a-9c02-b6931bdfa3f0",
   "metadata": {},
   "outputs": [],
   "source": []
  },
  {
   "cell_type": "code",
   "execution_count": null,
   "id": "c607e86b-ca9c-45ce-a404-374f33b4e46b",
   "metadata": {},
   "outputs": [],
   "source": []
  },
  {
   "cell_type": "code",
   "execution_count": null,
   "id": "21a2e007-a412-483e-a9c5-388d88c212cb",
   "metadata": {},
   "outputs": [],
   "source": []
  },
  {
   "cell_type": "code",
   "execution_count": null,
   "id": "8650e76b-8395-48c4-aa01-30d6c401b9b0",
   "metadata": {},
   "outputs": [],
   "source": []
  },
  {
   "cell_type": "code",
   "execution_count": null,
   "id": "cc2486d8-d519-4f61-8063-899c90a4c447",
   "metadata": {},
   "outputs": [],
   "source": []
  },
  {
   "cell_type": "code",
   "execution_count": null,
   "id": "0b59b7ac-3421-4765-aba4-3f3fbbfcfa8e",
   "metadata": {},
   "outputs": [],
   "source": []
  },
  {
   "cell_type": "code",
   "execution_count": null,
   "id": "0bd712f8-702e-4d9e-bce8-3454262871c2",
   "metadata": {},
   "outputs": [],
   "source": []
  },
  {
   "cell_type": "code",
   "execution_count": null,
   "id": "669b56bf-4435-4fd9-be83-9444f95949b3",
   "metadata": {},
   "outputs": [],
   "source": []
  },
  {
   "cell_type": "code",
   "execution_count": null,
   "id": "b905751b-981b-4f10-a070-7a77a3778700",
   "metadata": {},
   "outputs": [],
   "source": []
  },
  {
   "cell_type": "code",
   "execution_count": null,
   "id": "c1bf10dd-7e92-4635-b041-e7fa9cf3f031",
   "metadata": {},
   "outputs": [],
   "source": []
  },
  {
   "cell_type": "code",
   "execution_count": null,
   "id": "1e6e7b76-8b41-473f-ac61-0ee192edb4c5",
   "metadata": {},
   "outputs": [],
   "source": []
  },
  {
   "cell_type": "code",
   "execution_count": null,
   "id": "6c51e71d-483a-4151-85a5-e97ff2f6d163",
   "metadata": {},
   "outputs": [],
   "source": []
  },
  {
   "cell_type": "code",
   "execution_count": null,
   "id": "b7e607a3-1fc0-4cb8-96e9-2d45e61434ad",
   "metadata": {},
   "outputs": [],
   "source": []
  },
  {
   "cell_type": "code",
   "execution_count": null,
   "id": "8db6e367-ce75-4551-a59a-efc5765fcb18",
   "metadata": {},
   "outputs": [],
   "source": []
  },
  {
   "cell_type": "code",
   "execution_count": null,
   "id": "5d48bc2a-c5eb-4ee2-9dff-fbd85e387fa5",
   "metadata": {},
   "outputs": [],
   "source": []
  },
  {
   "cell_type": "code",
   "execution_count": null,
   "id": "f0f8f805-257e-476e-8e74-9acd9f98e217",
   "metadata": {},
   "outputs": [],
   "source": []
  },
  {
   "cell_type": "code",
   "execution_count": null,
   "id": "d5035f61-4926-4885-960a-b30436e5672f",
   "metadata": {},
   "outputs": [],
   "source": []
  },
  {
   "cell_type": "code",
   "execution_count": null,
   "id": "b232aec2-ea0f-4695-9584-dd479440e003",
   "metadata": {},
   "outputs": [],
   "source": []
  },
  {
   "cell_type": "code",
   "execution_count": null,
   "id": "548931e0-4f65-429f-8a54-250e05e35405",
   "metadata": {},
   "outputs": [],
   "source": []
  },
  {
   "cell_type": "code",
   "execution_count": null,
   "id": "12496ec3-147b-4f07-b6ed-c83dc0e370ff",
   "metadata": {},
   "outputs": [],
   "source": []
  },
  {
   "cell_type": "code",
   "execution_count": null,
   "id": "d72a81fd-d85c-45a6-a1e6-a7bd0552714e",
   "metadata": {},
   "outputs": [],
   "source": []
  },
  {
   "cell_type": "code",
   "execution_count": null,
   "id": "ebe57e79-de4c-48f8-bb2f-9a70f1a34dea",
   "metadata": {},
   "outputs": [],
   "source": []
  },
  {
   "cell_type": "code",
   "execution_count": null,
   "id": "4c599af2-9883-40dc-bcd1-2535d32dc5ca",
   "metadata": {},
   "outputs": [],
   "source": []
  },
  {
   "cell_type": "code",
   "execution_count": null,
   "id": "9aab6bdf-4021-40d7-a349-d3e09991114d",
   "metadata": {},
   "outputs": [],
   "source": []
  },
  {
   "cell_type": "code",
   "execution_count": null,
   "id": "f7ffee4d-83c3-4ac6-b6af-fce0e913d8b0",
   "metadata": {},
   "outputs": [],
   "source": []
  },
  {
   "cell_type": "code",
   "execution_count": null,
   "id": "62ee8f4f-0936-4b57-830c-62123f309834",
   "metadata": {},
   "outputs": [],
   "source": []
  },
  {
   "cell_type": "code",
   "execution_count": null,
   "id": "6549fea7-cf00-4986-a4f9-a3eaedd6a4d5",
   "metadata": {},
   "outputs": [],
   "source": []
  },
  {
   "cell_type": "code",
   "execution_count": null,
   "id": "cfbbfe67-81d6-4b7a-8aa3-c9aae08cb467",
   "metadata": {},
   "outputs": [],
   "source": []
  },
  {
   "cell_type": "code",
   "execution_count": null,
   "id": "3cebb811-9c5a-4c2b-94a5-ad1ba2f4570c",
   "metadata": {},
   "outputs": [],
   "source": []
  }
 ],
 "metadata": {
  "kernelspec": {
   "display_name": "Python [conda env:base] *",
   "language": "python",
   "name": "conda-base-py"
  },
  "language_info": {
   "codemirror_mode": {
    "name": "ipython",
    "version": 3
   },
   "file_extension": ".py",
   "mimetype": "text/x-python",
   "name": "python",
   "nbconvert_exporter": "python",
   "pygments_lexer": "ipython3",
   "version": "3.12.7"
  }
 },
 "nbformat": 4,
 "nbformat_minor": 5
}
